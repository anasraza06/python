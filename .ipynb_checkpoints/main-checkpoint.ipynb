{
 "cells": [
  {
   "cell_type": "code",
   "execution_count": 1,
   "id": "af5c6127-d62f-4653-8248-9601dc6cd799",
   "metadata": {},
   "outputs": [
    {
     "name": "stdout",
     "output_type": "stream",
     "text": [
      "Hello world\n"
     ]
    }
   ],
   "source": [
    "print(\"Hello world\")"
   ]
  },
  {
   "cell_type": "markdown",
   "id": "cae568df-8c9f-4032-aaf3-f78060b959fc",
   "metadata": {},
   "source": [
    "## Slicing"
   ]
  },
  {
   "cell_type": "code",
   "execution_count": 4,
   "id": "39de5007-7c44-4d35-b7a8-5baee0a5e6e5",
   "metadata": {},
   "outputs": [
    {
     "name": "stdout",
     "output_type": "stream",
     "text": [
      "['banana', 'orange', 'avacado']\n"
     ]
    }
   ],
   "source": [
    "fruits = [\"apple\", \"banana\", \"orange\", \"avacado\", \"plum\"]\n",
    "print(fruits[1:4])"
   ]
  },
  {
   "cell_type": "code",
   "execution_count": 5,
   "id": "140dea88-5808-4146-9f40-5248aebf75f3",
   "metadata": {},
   "outputs": [
    {
     "name": "stdout",
     "output_type": "stream",
     "text": [
      "['orange', 'avacado', 'plum']\n"
     ]
    }
   ],
   "source": [
    "print(fruits[2:])"
   ]
  },
  {
   "cell_type": "markdown",
   "id": "c8721b16-4195-497b-8c27-4d4ae8618bfb",
   "metadata": {},
   "source": [
    "# Indexing"
   ]
  },
  {
   "cell_type": "code",
   "execution_count": 7,
   "id": "549d53a0-7bce-4a5c-9dd4-2470539486a2",
   "metadata": {},
   "outputs": [
    {
     "data": {
      "text/plain": [
       "['apple', 'banana', 'orange', 'avacado', 'plum']"
      ]
     },
     "execution_count": 7,
     "metadata": {},
     "output_type": "execute_result"
    }
   ],
   "source": [
    "fruits"
   ]
  },
  {
   "cell_type": "code",
   "execution_count": 8,
   "id": "a5f22615-46bf-43b8-995e-65082fc0f2a5",
   "metadata": {},
   "outputs": [
    {
     "data": {
      "text/plain": [
       "'avacado'"
      ]
     },
     "execution_count": 8,
     "metadata": {},
     "output_type": "execute_result"
    }
   ],
   "source": [
    "fruits[3]"
   ]
  },
  {
   "cell_type": "code",
   "execution_count": 9,
   "id": "658cd7ba-6508-465e-87ba-ae5136de40e6",
   "metadata": {},
   "outputs": [
    {
     "data": {
      "text/plain": [
       "'avacado'"
      ]
     },
     "execution_count": 9,
     "metadata": {},
     "output_type": "execute_result"
    }
   ],
   "source": [
    "fruits [-2]"
   ]
  },
  {
   "cell_type": "code",
   "execution_count": 10,
   "id": "267962c7-4a89-4bf2-aa7d-c3d77e1b4af4",
   "metadata": {},
   "outputs": [
    {
     "data": {
      "text/plain": [
       "[]"
      ]
     },
     "execution_count": 10,
     "metadata": {},
     "output_type": "execute_result"
    }
   ],
   "source": [
    "fruits [-1:-4]"
   ]
  },
  {
   "cell_type": "code",
   "execution_count": 11,
   "id": "5a704c8d-62b5-4532-b87a-f641daea5a11",
   "metadata": {},
   "outputs": [
    {
     "data": {
      "text/plain": [
       "['banana', 'orange', 'avacado']"
      ]
     },
     "execution_count": 11,
     "metadata": {},
     "output_type": "execute_result"
    }
   ],
   "source": [
    "fruits [-4:-1]"
   ]
  },
  {
   "cell_type": "code",
   "execution_count": 12,
   "id": "9742cb31-1d53-4527-8ff0-1813112ecb44",
   "metadata": {},
   "outputs": [
    {
     "data": {
      "text/plain": [
       "'orange'"
      ]
     },
     "execution_count": 12,
     "metadata": {},
     "output_type": "execute_result"
    }
   ],
   "source": [
    "fruits [-3]"
   ]
  },
  {
   "cell_type": "code",
   "execution_count": 13,
   "id": "25ab6434-a556-4ad0-a1e8-7ed4b54b435b",
   "metadata": {},
   "outputs": [
    {
     "data": {
      "text/plain": [
       "['orange', 'avacado', 'plum']"
      ]
     },
     "execution_count": 13,
     "metadata": {},
     "output_type": "execute_result"
    }
   ],
   "source": [
    "fruits [-3:]"
   ]
  },
  {
   "cell_type": "code",
   "execution_count": 1,
   "id": "8cf4f96b-0fde-4612-8415-254b60085ba7",
   "metadata": {},
   "outputs": [
    {
     "name": "stdin",
     "output_type": "stream",
     "text": [
      "Enter your salary:  30000\n",
      "Enter your half days:  2\n",
      "Enter your leaves:  2\n",
      "Enter your late arrivals:  3\n"
     ]
    },
    {
     "name": "stdout",
     "output_type": "stream",
     "text": [
      "Per day salary: 1000.0\n",
      "Half-day deduction: 1000.0\n",
      "Late arrival #3: Deducting 1 full day's salary.\n",
      "Late arrival deduction (for 1 full day(s)): 1000.0\n",
      "Leave deduction: 2000.0\n",
      "Total deduction: 4000.0\n",
      "Remaining salary: 26000.0\n"
     ]
    }
   ],
   "source": [
    "salary = int(input('Enter your salary: '))\n",
    "half_day_count = int(input('Enter your half days: '))\n",
    "leave = int(input('Enter your leaves: '))\n",
    "Late_Arrival = int(input('Enter your late arrivals: '))\n",
    "\n",
    "perday_salary = salary / 30\n",
    "print(f\"Per day salary: {perday_salary}\")\n",
    "\n",
    "# Calculate half-day deduction\n",
    "half_day_deduction = (perday_salary / 2) * half_day_count\n",
    "print(f\"Half-day deduction: {half_day_deduction}\")\n",
    "\n",
    "# Calculate late arrival deduction using a for loop\n",
    "late_day_count = 0  # Counts the total late days to be deducted\n",
    "for i in range(1, Late_Arrival + 1):\n",
    "    if i % 3 == 0:  # Every 3rd late arrival deducts a full day\n",
    "        late_day_count += 1\n",
    "        print(f\"Late arrival #{i}: Deducting 1 full day's salary.\")\n",
    "\n",
    "late_arrival_deduction = late_day_count * perday_salary\n",
    "print(f\"Late arrival deduction (for {late_day_count} full day(s)): {late_arrival_deduction}\")\n",
    "\n",
    "# Calculate leave deduction\n",
    "leave_deduction = leave * perday_salary\n",
    "print(f\"Leave deduction: {leave_deduction}\")\n",
    "\n",
    "# Total deduction\n",
    "total_deduction = half_day_deduction + leave_deduction + late_arrival_deduction\n",
    "print(f\"Total deduction: {total_deduction}\")\n",
    "\n",
    "# Remaining salary\n",
    "remaining_salary = salary - total_deduction\n",
    "print(f\"Remaining salary: {remaining_salary}\")"
   ]
  },
  {
   "cell_type": "code",
   "execution_count": 2,
   "id": "52bde815-4260-495a-b6c3-9b7182544128",
   "metadata": {},
   "outputs": [
    {
     "name": "stdin",
     "output_type": "stream",
     "text": [
      "Enter your salary:  30000\n",
      "Enter your half days:  2\n",
      "Enter your leaves:  2\n",
      "Enter your late arrivals:  6\n"
     ]
    },
    {
     "name": "stdout",
     "output_type": "stream",
     "text": [
      "Per day salary: 1000.0\n",
      "Half-day deduction: 1000.0\n",
      "Late arrival deduction (for 2 full day(s)): 2000.0\n",
      "Leave deduction: 2000.0\n",
      "Total deduction: 5000.0\n",
      "Remaining salary: 25000.0\n"
     ]
    }
   ],
   "source": [
    "salary = int(input('Enter your salary: '))\n",
    "half_day_count = int(input('Enter your half days: '))\n",
    "leave = int(input('Enter your leaves: '))\n",
    "Late_Arrival = int(input('Enter your late arrivals: '))\n",
    "\n",
    "perday_salary = salary / 30\n",
    "print(f\"Per day salary: {perday_salary}\")\n",
    "\n",
    "# Calculate half-day deduction\n",
    "half_day_deduction = (perday_salary / 2) * half_day_count\n",
    "print(f\"Half-day deduction: {half_day_deduction}\")\n",
    "\n",
    "# Calculate late arrival deduction\n",
    "late_arrival_days = Late_Arrival // 3  # Every 3 late arrivals count as 1 full day\n",
    "late_arrival_deduction = late_arrival_days * perday_salary\n",
    "print(f\"Late arrival deduction (for {late_arrival_days} full day(s)): {late_arrival_deduction}\")\n",
    "\n",
    "# Calculate leave deduction\n",
    "leave_deduction = leave * perday_salary\n",
    "print(f\"Leave deduction: {leave_deduction}\")\n",
    "\n",
    "# Total deduction\n",
    "total_deduction = half_day_deduction + leave_deduction + late_arrival_deduction\n",
    "print(f\"Total deduction: {total_deduction}\")\n",
    "\n",
    "# Remaining salary\n",
    "remaining_salary = salary - total_deduction\n",
    "print(f\"Remaining salary: {remaining_salary}\")"
   ]
  },
  {
   "cell_type": "code",
   "execution_count": 21,
   "id": "122683c6-c0c1-43e7-a749-27bacf7a76bc",
   "metadata": {},
   "outputs": [
    {
     "name": "stdout",
     "output_type": "stream",
     "text": [
      "i*i is 1\n",
      "i*i is 4\n",
      "i*i is 9\n",
      "i*i is 16\n",
      "i*i is 25\n",
      "i*i is 36\n",
      "i*i is 49\n",
      "i*i is 64\n",
      "i*i is 81\n",
      "i*i is 100\n"
     ]
    }
   ],
   "source": [
    "for i in range(1,11):\n",
    "    print(\"i*i is \" + str(i**2))"
   ]
  },
  {
   "cell_type": "code",
   "execution_count": 28,
   "id": "91c4a594-0461-471b-a5e7-2611b75922b1",
   "metadata": {},
   "outputs": [
    {
     "ename": "SyntaxError",
     "evalue": "unmatched ')' (1070864787.py, line 3)",
     "output_type": "error",
     "traceback": [
      "\u001b[1;36m  Cell \u001b[1;32mIn[28], line 3\u001b[1;36m\u001b[0m\n\u001b[1;33m    print('i' * 'i' 'is equal to' + str(i**2)))\u001b[0m\n\u001b[1;37m                                              ^\u001b[0m\n\u001b[1;31mSyntaxError\u001b[0m\u001b[1;31m:\u001b[0m unmatched ')'\n"
     ]
    }
   ],
   "source": [
    "k = [0.5*x for x in range(4)]\n",
    "print(k)\n",
    "print('i' * 'i' 'is equal to' + str(i**2)))"
   ]
  },
  {
   "cell_type": "code",
   "execution_count": 23,
   "id": "8fa45226-0c73-4844-b4c1-28933f7d4b79",
   "metadata": {},
   "outputs": [
    {
     "name": "stdout",
     "output_type": "stream",
     "text": [
      "i*i is 1\n",
      "i*i is 4\n",
      "i*i is 9\n",
      "i*i is 16\n",
      "i*i is 25\n",
      "i*i is 36\n",
      "i*i is 49\n",
      "i*i is 64\n",
      "i*i is 81\n",
      "i*i is 100\n"
     ]
    }
   ],
   "source": [
    "for i in range(1,11):\n",
    "    print(f\"i*i is {i**2}\")"
   ]
  },
  {
   "cell_type": "code",
   "execution_count": 29,
   "id": "1a6754d4-d217-461b-94a8-dd98f78dc78b",
   "metadata": {},
   "outputs": [
    {
     "name": "stdin",
     "output_type": "stream",
     "text": [
      "Enter your value 6\n",
      "Enter your value 2\n"
     ]
    },
    {
     "data": {
      "text/plain": [
       "3.0"
      ]
     },
     "execution_count": 29,
     "metadata": {},
     "output_type": "execute_result"
    }
   ],
   "source": [
    "a = int(input(\"Enter your value\"))\n",
    "b = int(input(\"Enter your value\"))\n",
    "a/b"
   ]
  },
  {
   "cell_type": "code",
   "execution_count": 30,
   "id": "cc53df96-2ce2-45d8-9fe1-00c0eca1399e",
   "metadata": {},
   "outputs": [
    {
     "name": "stdin",
     "output_type": "stream",
     "text": [
      "Enter your value 9\n",
      "Enter your value 2\n"
     ]
    },
    {
     "data": {
      "text/plain": [
       "4"
      ]
     },
     "execution_count": 30,
     "metadata": {},
     "output_type": "execute_result"
    }
   ],
   "source": [
    "a = int(input(\"Enter your value\"))\n",
    "b = int(input(\"Enter your value\"))\n",
    "a//b"
   ]
  },
  {
   "cell_type": "code",
   "execution_count": null,
   "id": "598062fe-6bf1-462c-9d0b-5b13659e3f14",
   "metadata": {},
   "outputs": [],
   "source": []
  }
 ],
 "metadata": {
  "kernelspec": {
   "display_name": "Python 3 (ipykernel)",
   "language": "python",
   "name": "python3"
  },
  "language_info": {
   "codemirror_mode": {
    "name": "ipython",
    "version": 3
   },
   "file_extension": ".py",
   "mimetype": "text/x-python",
   "name": "python",
   "nbconvert_exporter": "python",
   "pygments_lexer": "ipython3",
   "version": "3.12.7"
  }
 },
 "nbformat": 4,
 "nbformat_minor": 5
}
